{
  "nbformat": 4,
  "nbformat_minor": 0,
  "metadata": {
    "colab": {
      "name": "Untitled1.ipynb",
      "provenance": [],
      "authorship_tag": "ABX9TyOcJIO5CeEH7BYgUQW/fEKn",
      "include_colab_link": true
    },
    "kernelspec": {
      "name": "python3",
      "display_name": "Python 3"
    },
    "language_info": {
      "name": "python"
    }
  },
  "cells": [
    {
      "cell_type": "markdown",
      "metadata": {
        "id": "view-in-github",
        "colab_type": "text"
      },
      "source": [
        "<a href=\"https://colab.research.google.com/github/enzhouliu/notebook-blogs/blob/master/_notebooks/2021-10-29-ReflectionOnBookReading1.ipynb\" target=\"_parent\"><img src=\"https://colab.research.google.com/assets/colab-badge.svg\" alt=\"Open In Colab\"/></a>"
      ]
    },
    {
      "cell_type": "markdown",
      "metadata": {
        "id": "UJ0xjFJ2nHTr"
      },
      "source": [
        "# 读《刻意学习》有感1\n",
        "刻意学习是一本教人如何通过长时间的进步从量变到质变的书。我刚刚开始读，从前几节来看有些有意思的东西。作者有个有趣的概念就是10^n, n的增长代表着量变的积累，从浅尝辄止到一定的坚持，再到开始总结归纳框架，在到突破创新。从10天，3个月，3年，30年几个维度探讨量变到质变的过程。这让我联想到我的工作，在fb这5年，我一直专注（其实也是没有能够拓展）在机器学习特征这方面的工作，从什么也不懂，到开始上手，到从广告组汲取经验写出了fireball，到现在成为igml data组的经理，基本上是符合作者描述的这个3年的时间框架的，但是从3年到5年的这段时间里，我发现我在打破和创新上做的远远不够。\n",
        "同时作者非常强调执行，只有做了才能有所收获，做决定和犹豫踌躇的效果天壤之别。\n",
        "在有一天就是作者提到了强反馈，人类渴望强反馈，需要看到短时间的效果，但是很多进步和质变反而需要长时间的不断积累的进步，能够拒绝强反馈，忍受短时间无反馈是困难但是必要的。\n",
        "作者举的例子就是人们在学习的时候会是不是的看手机（强反馈），读到这里简直就是正中下怀，这不就是我么，白天学习fast.ai的时候是不是就会拿出手机刷刷视频，compile的时候看看youtube，我需要可以去抑制这种渴望。\n"
      ]
    }
  ]
}